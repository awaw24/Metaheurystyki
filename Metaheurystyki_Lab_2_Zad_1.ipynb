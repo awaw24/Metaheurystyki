{
  "nbformat": 4,
  "nbformat_minor": 0,
  "metadata": {
    "colab": {
      "provenance": [],
      "authorship_tag": "ABX9TyP/Y/2/zPfsOwzpUZQhppFc",
      "include_colab_link": true
    },
    "kernelspec": {
      "name": "python3",
      "display_name": "Python 3"
    },
    "language_info": {
      "name": "python"
    }
  },
  "cells": [
    {
      "cell_type": "markdown",
      "metadata": {
        "id": "view-in-github",
        "colab_type": "text"
      },
      "source": [
        "<a href=\"https://colab.research.google.com/github/awaw24/Metaheurystyki/blob/main/Metaheurystyki_Lab_2_Zad_1.ipynb\" target=\"_parent\"><img src=\"https://colab.research.google.com/assets/colab-badge.svg\" alt=\"Open In Colab\"/></a>"
      ]
    },
    {
      "cell_type": "code",
      "execution_count": 2,
      "metadata": {
        "colab": {
          "base_uri": "https://localhost:8080/"
        },
        "id": "JJamc4k2X3Mp",
        "outputId": "5866a851-3171-4010-e829-d68071e361f3"
      },
      "outputs": [
        {
          "output_type": "stream",
          "name": "stdout",
          "text": [
            "Collecting itables\n",
            "  Downloading itables-2.4.0-py3-none-any.whl.metadata (9.4 kB)\n",
            "Requirement already satisfied: ipython in /usr/local/lib/python3.11/dist-packages (from itables) (7.34.0)\n",
            "Requirement already satisfied: numpy in /usr/local/lib/python3.11/dist-packages (from itables) (2.0.2)\n",
            "Requirement already satisfied: pandas in /usr/local/lib/python3.11/dist-packages (from itables) (2.2.2)\n",
            "Requirement already satisfied: setuptools>=18.5 in /usr/local/lib/python3.11/dist-packages (from ipython->itables) (75.2.0)\n",
            "Collecting jedi>=0.16 (from ipython->itables)\n",
            "  Downloading jedi-0.19.2-py2.py3-none-any.whl.metadata (22 kB)\n",
            "Requirement already satisfied: decorator in /usr/local/lib/python3.11/dist-packages (from ipython->itables) (4.4.2)\n",
            "Requirement already satisfied: pickleshare in /usr/local/lib/python3.11/dist-packages (from ipython->itables) (0.7.5)\n",
            "Requirement already satisfied: traitlets>=4.2 in /usr/local/lib/python3.11/dist-packages (from ipython->itables) (5.7.1)\n",
            "Requirement already satisfied: prompt-toolkit!=3.0.0,!=3.0.1,<3.1.0,>=2.0.0 in /usr/local/lib/python3.11/dist-packages (from ipython->itables) (3.0.51)\n",
            "Requirement already satisfied: pygments in /usr/local/lib/python3.11/dist-packages (from ipython->itables) (2.19.1)\n",
            "Requirement already satisfied: backcall in /usr/local/lib/python3.11/dist-packages (from ipython->itables) (0.2.0)\n",
            "Requirement already satisfied: matplotlib-inline in /usr/local/lib/python3.11/dist-packages (from ipython->itables) (0.1.7)\n",
            "Requirement already satisfied: pexpect>4.3 in /usr/local/lib/python3.11/dist-packages (from ipython->itables) (4.9.0)\n",
            "Requirement already satisfied: python-dateutil>=2.8.2 in /usr/local/lib/python3.11/dist-packages (from pandas->itables) (2.9.0.post0)\n",
            "Requirement already satisfied: pytz>=2020.1 in /usr/local/lib/python3.11/dist-packages (from pandas->itables) (2025.2)\n",
            "Requirement already satisfied: tzdata>=2022.7 in /usr/local/lib/python3.11/dist-packages (from pandas->itables) (2025.2)\n",
            "Requirement already satisfied: parso<0.9.0,>=0.8.4 in /usr/local/lib/python3.11/dist-packages (from jedi>=0.16->ipython->itables) (0.8.4)\n",
            "Requirement already satisfied: ptyprocess>=0.5 in /usr/local/lib/python3.11/dist-packages (from pexpect>4.3->ipython->itables) (0.7.0)\n",
            "Requirement already satisfied: wcwidth in /usr/local/lib/python3.11/dist-packages (from prompt-toolkit!=3.0.0,!=3.0.1,<3.1.0,>=2.0.0->ipython->itables) (0.2.13)\n",
            "Requirement already satisfied: six>=1.5 in /usr/local/lib/python3.11/dist-packages (from python-dateutil>=2.8.2->pandas->itables) (1.17.0)\n",
            "Downloading itables-2.4.0-py3-none-any.whl (2.3 MB)\n",
            "\u001b[2K   \u001b[90m━━━━━━━━━━━━━━━━━━━━━━━━━━━━━━━━━━━━━━━━\u001b[0m \u001b[32m2.3/2.3 MB\u001b[0m \u001b[31m76.7 MB/s\u001b[0m eta \u001b[36m0:00:00\u001b[0m\n",
            "\u001b[?25hDownloading jedi-0.19.2-py2.py3-none-any.whl (1.6 MB)\n",
            "\u001b[2K   \u001b[90m━━━━━━━━━━━━━━━━━━━━━━━━━━━━━━━━━━━━━━━━\u001b[0m \u001b[32m1.6/1.6 MB\u001b[0m \u001b[31m59.4 MB/s\u001b[0m eta \u001b[36m0:00:00\u001b[0m\n",
            "\u001b[?25hInstalling collected packages: jedi, itables\n",
            "Successfully installed itables-2.4.0 jedi-0.19.2\n",
            "Collecting ace_tools_open\n",
            "  Downloading ace_tools_open-0.1.0-py3-none-any.whl.metadata (1.1 kB)\n",
            "Requirement already satisfied: pandas in /usr/local/lib/python3.11/dist-packages (from ace_tools_open) (2.2.2)\n",
            "Requirement already satisfied: itables in /usr/local/lib/python3.11/dist-packages (from ace_tools_open) (2.4.0)\n",
            "Requirement already satisfied: IPython in /usr/local/lib/python3.11/dist-packages (from ace_tools_open) (7.34.0)\n",
            "Requirement already satisfied: setuptools>=18.5 in /usr/local/lib/python3.11/dist-packages (from IPython->ace_tools_open) (75.2.0)\n",
            "Requirement already satisfied: jedi>=0.16 in /usr/local/lib/python3.11/dist-packages (from IPython->ace_tools_open) (0.19.2)\n",
            "Requirement already satisfied: decorator in /usr/local/lib/python3.11/dist-packages (from IPython->ace_tools_open) (4.4.2)\n",
            "Requirement already satisfied: pickleshare in /usr/local/lib/python3.11/dist-packages (from IPython->ace_tools_open) (0.7.5)\n",
            "Requirement already satisfied: traitlets>=4.2 in /usr/local/lib/python3.11/dist-packages (from IPython->ace_tools_open) (5.7.1)\n",
            "Requirement already satisfied: prompt-toolkit!=3.0.0,!=3.0.1,<3.1.0,>=2.0.0 in /usr/local/lib/python3.11/dist-packages (from IPython->ace_tools_open) (3.0.51)\n",
            "Requirement already satisfied: pygments in /usr/local/lib/python3.11/dist-packages (from IPython->ace_tools_open) (2.19.1)\n",
            "Requirement already satisfied: backcall in /usr/local/lib/python3.11/dist-packages (from IPython->ace_tools_open) (0.2.0)\n",
            "Requirement already satisfied: matplotlib-inline in /usr/local/lib/python3.11/dist-packages (from IPython->ace_tools_open) (0.1.7)\n",
            "Requirement already satisfied: pexpect>4.3 in /usr/local/lib/python3.11/dist-packages (from IPython->ace_tools_open) (4.9.0)\n",
            "Requirement already satisfied: numpy in /usr/local/lib/python3.11/dist-packages (from itables->ace_tools_open) (2.0.2)\n",
            "Requirement already satisfied: python-dateutil>=2.8.2 in /usr/local/lib/python3.11/dist-packages (from pandas->ace_tools_open) (2.9.0.post0)\n",
            "Requirement already satisfied: pytz>=2020.1 in /usr/local/lib/python3.11/dist-packages (from pandas->ace_tools_open) (2025.2)\n",
            "Requirement already satisfied: tzdata>=2022.7 in /usr/local/lib/python3.11/dist-packages (from pandas->ace_tools_open) (2025.2)\n",
            "Requirement already satisfied: parso<0.9.0,>=0.8.4 in /usr/local/lib/python3.11/dist-packages (from jedi>=0.16->IPython->ace_tools_open) (0.8.4)\n",
            "Requirement already satisfied: ptyprocess>=0.5 in /usr/local/lib/python3.11/dist-packages (from pexpect>4.3->IPython->ace_tools_open) (0.7.0)\n",
            "Requirement already satisfied: wcwidth in /usr/local/lib/python3.11/dist-packages (from prompt-toolkit!=3.0.0,!=3.0.1,<3.1.0,>=2.0.0->IPython->ace_tools_open) (0.2.13)\n",
            "Requirement already satisfied: six>=1.5 in /usr/local/lib/python3.11/dist-packages (from python-dateutil>=2.8.2->pandas->ace_tools_open) (1.17.0)\n",
            "Downloading ace_tools_open-0.1.0-py3-none-any.whl (3.0 kB)\n",
            "Installing collected packages: ace_tools_open\n",
            "Successfully installed ace_tools_open-0.1.0\n"
          ]
        }
      ],
      "source": [
        "import numpy as np\n",
        "import pandas as pd\n",
        "import matplotlib.pyplot as plt\n",
        "\n",
        "!pip install itables\n",
        "!pip install ace_tools_open\n",
        "\n",
        "import itables\n",
        "\n",
        "# Rastrigin function\n",
        "def rastrigin(x):\n",
        "    return 10 * len(x) + np.sum(x**2 - 10 * np.cos(2 * np.pi * x))\n",
        "\n",
        "# Base hill-climbing algorithm\n",
        "def hill_climb(func, dim, iterations, n_neighbors, sigma):\n",
        "    x = np.random.uniform(-5.12, 5.12, size=dim)\n",
        "    best_val = func(x)\n",
        "    for _ in range(iterations):\n",
        "        neighbors = x + np.random.normal(0, sigma, size=(n_neighbors, dim))\n",
        "        vals = np.apply_along_axis(func, 1, neighbors)\n",
        "        idx = np.argmin(vals)\n",
        "        if vals[idx] < best_val:\n",
        "            x = neighbors[idx]\n",
        "            best_val = vals[idx]\n",
        "    return best_val\n",
        "\n",
        "# Multistart with failure counter algorithm\n",
        "def multistart_failure(func, dim, iterations, n_neighbors, sigma, max_failures, restarts):\n",
        "    best_overall = np.inf\n",
        "    for _ in range(restarts):\n",
        "        x = np.random.uniform(-5.12, 5.12, size=dim)\n",
        "        best_val = func(x)\n",
        "        failures = 0\n",
        "        for _ in range(iterations):\n",
        "            neighbors = x + np.random.normal(0, sigma, size=(n_neighbors, dim))\n",
        "            vals = np.apply_along_axis(func, 1, neighbors)\n",
        "            idx = np.argmin(vals)\n",
        "            if vals[idx] < best_val:\n",
        "                x = neighbors[idx]\n",
        "                best_val = vals[idx]\n",
        "                failures = 0\n",
        "            else:\n",
        "                failures += 1\n",
        "                if failures > max_failures:\n",
        "                    break\n",
        "        best_overall = min(best_overall, best_val)\n",
        "    return best_overall\n",
        "\n",
        "# Experiment parameters\n",
        "dims = [2, 10]\n",
        "neighbor_counts = [20, 50]\n",
        "iterations = 1000\n",
        "sigma = 0.1\n",
        "max_failures = 20\n",
        "restarts = 5\n",
        "runs = 5"
      ]
    },
    {
      "cell_type": "code",
      "source": [
        "# Collect results\n",
        "results = []\n",
        "for alg_name, alg_func in [(\"Hill Climbing\", hill_climb), (\"Multistart Failure\", multistart_failure)]:\n",
        "    for dim in dims:\n",
        "        for n_neighbors in neighbor_counts:\n",
        "            vals = []\n",
        "            for _ in range(runs):\n",
        "                if alg_name == \"Hill Climbing\":\n",
        "                    val = alg_func(rastrigin, dim, iterations, n_neighbors, sigma)\n",
        "                else:\n",
        "                    val = alg_func(rastrigin, dim, iterations, n_neighbors, sigma, max_failures, restarts)\n",
        "                vals.append(val)\n",
        "            results.append({\n",
        "                \"Algorithm\": alg_name,\n",
        "                \"Dimensions\": dim,\n",
        "                \"Neighbors\": n_neighbors,\n",
        "                \"Average Best Value\": np.mean(vals),\n",
        "                \"Std Dev\": np.std(vals)\n",
        "            })\n",
        "\n",
        "df = pd.DataFrame(results)\n",
        "\n",
        "# Display results\n",
        "import ace_tools_open as tools;\n",
        "tools.display_dataframe_to_user(name=\"Experiment Results\", dataframe=df)\n",
        "\n",
        "# Plotting bar chart of average best values\n",
        "plt.figure()\n",
        "df_pivot = df.pivot_table(index=[\"Dimensions\", \"Neighbors\"], columns=\"Algorithm\", values=\"Average Best Value\")\n",
        "df_pivot.plot(kind='bar')\n",
        "plt.title(\"Average Best Rastrigin Value by Algorithm\")\n",
        "plt.ylabel(\"Average Best Value\")\n",
        "plt.tight_layout()\n",
        "plt.show()"
      ],
      "metadata": {
        "colab": {
          "base_uri": "https://localhost:8080/",
          "height": 859
        },
        "id": "r39cAFQed_9G",
        "outputId": "6d355381-f5f0-4985-f11a-f2edc562997f"
      },
      "execution_count": 3,
      "outputs": [
        {
          "output_type": "stream",
          "name": "stdout",
          "text": [
            "Experiment Results\n"
          ]
        },
        {
          "output_type": "display_data",
          "data": {
            "text/plain": [
              "<IPython.core.display.HTML object>"
            ],
            "text/html": [
              "<!--| quarto-html-table-processing: none -->\n",
              "<table id=\"itables_06d13616_3464_474f_805d_fefd849b9735\"><tbody><tr>\n",
              "    <td style=\"vertical-align:middle; text-align:left\">\n",
              "    <a href=https://mwouts.github.io/itables/><svg class=\"main-svg\" xmlns=\"http://www.w3.org/2000/svg\" xmlns:xlink=\"http://www.w3.org/1999/xlink\"\n",
              "width=\"64\" viewBox=\"0 0 500 400\" style=\"font-family: 'Droid Sans', sans-serif;\">\n",
              "    <g style=\"fill:#d9d7fc\">\n",
              "        <path d=\"M100,400H500V357H100Z\" />\n",
              "        <path d=\"M100,300H400V257H100Z\" />\n",
              "        <path d=\"M0,200H400V157H0Z\" />\n",
              "        <path d=\"M100,100H500V57H100Z\" />\n",
              "        <path d=\"M100,350H500V307H100Z\" />\n",
              "        <path d=\"M100,250H400V207H100Z\" />\n",
              "        <path d=\"M0,150H400V107H0Z\" />\n",
              "        <path d=\"M100,50H500V7H100Z\" />\n",
              "    </g>\n",
              "    <g style=\"fill:#1a1366;stroke:#1a1366;\">\n",
              "   <rect x=\"100\" y=\"7\" width=\"400\" height=\"43\">\n",
              "    <animate\n",
              "      attributeName=\"width\"\n",
              "      values=\"0;400;0\"\n",
              "      dur=\"5s\"\n",
              "      repeatCount=\"indefinite\" />\n",
              "      <animate\n",
              "      attributeName=\"x\"\n",
              "      values=\"100;100;500\"\n",
              "      dur=\"5s\"\n",
              "      repeatCount=\"indefinite\" />\n",
              "  </rect>\n",
              "        <rect x=\"0\" y=\"107\" width=\"400\" height=\"43\">\n",
              "    <animate\n",
              "      attributeName=\"width\"\n",
              "      values=\"0;400;0\"\n",
              "      dur=\"3.5s\"\n",
              "      repeatCount=\"indefinite\" />\n",
              "    <animate\n",
              "      attributeName=\"x\"\n",
              "      values=\"0;0;400\"\n",
              "      dur=\"3.5s\"\n",
              "      repeatCount=\"indefinite\" />\n",
              "  </rect>\n",
              "        <rect x=\"100\" y=\"207\" width=\"300\" height=\"43\">\n",
              "    <animate\n",
              "      attributeName=\"width\"\n",
              "      values=\"0;300;0\"\n",
              "      dur=\"3s\"\n",
              "      repeatCount=\"indefinite\" />\n",
              "    <animate\n",
              "      attributeName=\"x\"\n",
              "      values=\"100;100;400\"\n",
              "      dur=\"3s\"\n",
              "      repeatCount=\"indefinite\" />\n",
              "  </rect>\n",
              "        <rect x=\"100\" y=\"307\" width=\"400\" height=\"43\">\n",
              "    <animate\n",
              "      attributeName=\"width\"\n",
              "      values=\"0;400;0\"\n",
              "      dur=\"4s\"\n",
              "      repeatCount=\"indefinite\" />\n",
              "      <animate\n",
              "      attributeName=\"x\"\n",
              "      values=\"100;100;500\"\n",
              "      dur=\"4s\"\n",
              "      repeatCount=\"indefinite\" />\n",
              "  </rect>\n",
              "        <g style=\"fill:transparent;stroke-width:8; stroke-linejoin:round\" rx=\"5\">\n",
              "            <g transform=\"translate(45 50) rotate(-45)\">\n",
              "                <circle r=\"33\" cx=\"0\" cy=\"0\" />\n",
              "                <rect x=\"-8\" y=\"32\" width=\"16\" height=\"30\" />\n",
              "            </g>\n",
              "\n",
              "            <g transform=\"translate(450 152)\">\n",
              "                <polyline points=\"-15,-20 -35,-20 -35,40 25,40 25,20\" />\n",
              "                <rect x=\"-15\" y=\"-40\" width=\"60\" height=\"60\" />\n",
              "            </g>\n",
              "\n",
              "            <g transform=\"translate(50 352)\">\n",
              "                <polygon points=\"-35,-5 0,-40 35,-5\" />\n",
              "                <polygon points=\"-35,10 0,45 35,10\" />\n",
              "            </g>\n",
              "\n",
              "            <g transform=\"translate(75 250)\">\n",
              "                <polyline points=\"-30,30 -60,0 -30,-30\" />\n",
              "                <polyline points=\"0,30 -30,0 0,-30\" />\n",
              "            </g>\n",
              "\n",
              "            <g transform=\"translate(425 250) rotate(180)\">\n",
              "                <polyline points=\"-30,30 -60,0 -30,-30\" />\n",
              "                <polyline points=\"0,30 -30,0 0,-30\" />\n",
              "            </g>\n",
              "        </g>\n",
              "    </g>\n",
              "</svg>\n",
              "</a>\n",
              "    Loading ITables v2.4.0 from the internet...\n",
              "    (need <a href=https://mwouts.github.io/itables/troubleshooting.html>help</a>?)</td>\n",
              "    </tr></tbody></table>\n",
              "<link href=\"https://www.unpkg.com/dt_for_itables@2.3.2/dt_bundle.css\" rel=\"stylesheet\">\n",
              "<script type=\"module\">\n",
              "    import { ITable, jQuery as $ } from 'https://www.unpkg.com/dt_for_itables@2.3.2/dt_bundle.js';\n",
              "\n",
              "    document.querySelectorAll(\"#itables_06d13616_3464_474f_805d_fefd849b9735:not(.dataTable)\").forEach(table => {\n",
              "        if (!(table instanceof HTMLTableElement))\n",
              "            return;\n",
              "\n",
              "        let dt_args = {\"layout\": {\"topStart\": null, \"topEnd\": null, \"bottomStart\": null, \"bottomEnd\": null}, \"style\": {\"table-layout\": \"auto\", \"width\": \"auto\", \"margin\": \"auto\", \"caption-side\": \"bottom\"}, \"order\": [], \"classes\": [\"display\", \"nowrap\"], \"text_in_header_can_be_selected\": true, \"table_html\": \"<table><thead>\\n    <tr style=\\\"text-align: right;\\\">\\n      \\n      <th>Algorithm</th>\\n      <th>Dimensions</th>\\n      <th>Neighbors</th>\\n      <th>Average Best Value</th>\\n      <th>Std Dev</th>\\n    </tr>\\n  </thead></table>\", \"data_json\": \"[[\\\"Hill Climbing\\\", 2, 20, 18.506249, 12.641667], [\\\"Hill Climbing\\\", 2, 50, 10.54657, 5.135316], [\\\"Hill Climbing\\\", 10, 20, 100.467399, 17.081069], [\\\"Hill Climbing\\\", 10, 50, 92.443274, 36.545396], [\\\"Multistart Failure\\\", 2, 20, 2.7932, 3.170203], [\\\"Multistart Failure\\\", 2, 50, 3.783268, 2.911779], [\\\"Multistart Failure\\\", 10, 20, 61.659382, 3.988911], [\\\"Multistart Failure\\\", 10, 50, 64.66489, 12.128603]]\"};\n",
              "        new ITable(table, dt_args);\n",
              "    });\n",
              "</script>\n"
            ]
          },
          "metadata": {}
        },
        {
          "output_type": "display_data",
          "data": {
            "text/plain": [
              "<Figure size 640x480 with 0 Axes>"
            ]
          },
          "metadata": {}
        },
        {
          "output_type": "display_data",
          "data": {
            "text/plain": [
              "<Figure size 640x480 with 1 Axes>"
            ],
            "image/png": "[encoded data removed]"
          },
          "metadata": {}
        }
      ]
    },
    {
      "cell_type": "markdown",
      "source": [
        "Powyżej znajdują się wyniki porównania podstawowego algorytmu wzrostu (“Hill Climbing”) z jego wariantem z wielostartem i licznikiem porażek (“Multistart Failure”) dla funkcji celu Rastrigina.\n",
        "Eksperyment przeprowadziłem dla dwóch wymiarów (2 oraz 10) i dwóch wielkości sąsiedztwa (20 oraz 50 punktów), wykonując po 5 symulacji w każdej konfiguracji. Wartości “Average Best Value” to średnie najlepsze uzyskane wyniki, a “Std Dev” to odchylenia standardowe.\n",
        "\n"
      ],
      "metadata": {
        "id": "agbSrensd7la"
      }
    },
    {
      "cell_type": "markdown",
      "source": [
        "**Kluczowe obserwacje:**\n",
        "\n",
        "* W każdej konfiguracji wariant multistartowy osiąga istotnie niższe (lepsze)\n",
        "wyniki od prostego hill climbera.\n",
        "\n",
        "* Zwiększenie liczby punktów sąsiedztwa (20 → 50) poprawia jakość obu algorytmów, zwłaszcza w małej liczbie wymiarów.\n",
        "\n",
        "* Przy wzroście wymiaru do 10 różnica między algorytmami maleje, ale Multistart Failure nadal dominuje."
      ],
      "metadata": {
        "id": "LldjXW6Qmyp8"
      }
    },
    {
      "cell_type": "markdown",
      "source": [
        "**Komentarz:**\n",
        "\n",
        "* **Zalety Multistart Failure:** dzięki ponownym startom i przerwaniu lokalnego poszukiwania po serii “porażek” unikamy utknięcia w płytkim optimum.\n",
        "\n",
        "* **Wpływ parametrów:** większe sąsiedztwo (więcej prób) zazwyczaj obniża średnią wartość funkcji, choć kosztem czasu.\n",
        "\n",
        "* **Wielowymiarowość:** trudność optymalizacji rośnie znacząco przy n=10; nawet wariant ze startami nie schodzi blisko zera w limicie 1000 iteracji."
      ],
      "metadata": {
        "id": "3Gyute_Meket"
      }
    },
    {
      "cell_type": "markdown",
      "source": [
        "**Wykonał:** Arkadiusz Pizon\n",
        "\n",
        "**Nr albumu:** 22267\n",
        "\n",
        "**Grupa:** MZ04IP1"
      ],
      "metadata": {
        "id": "oy7Iy9Tilpp3"
      }
    }
  ]
}