{
  "nbformat": 4,
  "nbformat_minor": 0,
  "metadata": {
    "colab": {
      "provenance": [],
      "authorship_tag": "ABX9TyMcyUw/akIPGMc5x/9uVwip",
      "include_colab_link": true
    },
    "kernelspec": {
      "name": "python3",
      "display_name": "Python 3"
    },
    "language_info": {
      "name": "python"
    }
  },
  "cells": [
    {
      "cell_type": "markdown",
      "metadata": {
        "id": "view-in-github",
        "colab_type": "text"
      },
      "source": [
        "<a href=\"https://colab.research.google.com/github/awaw24/Metaheurystyki/blob/main/Metaheurystyki_Lab_1_Zad_1.ipynb\" target=\"_parent\"><img src=\"https://colab.research.google.com/assets/colab-badge.svg\" alt=\"Open In Colab\"/></a>"
      ]
    },
    {
      "cell_type": "markdown",
      "source": [
        "**ZAD. 1**\n",
        "\n",
        "Do realizacji zadania 2 użyłem języka Python.\n",
        "\n",
        "Kod implementuje dwa typy generatorów – klasyczny generator liniowy (LCG) oraz uogólniony generator liniowy oparty o rekurencyjne wzory.\n",
        "\n",
        "Obliczana jest wartość oczekiwana oraz odchylenie standardowe wygenerowanych liczb (przy czym wyniki są normalizowane do przedziału [0,1])."
      ],
      "metadata": {
        "id": "IrTKGyKTQavs"
      }
    },
    {
      "cell_type": "code",
      "execution_count": null,
      "metadata": {
        "colab": {
          "base_uri": "https://localhost:8080/"
        },
        "id": "yFbdJ5d9GwAp",
        "outputId": "66441bcc-8647-4acf-eef1-5ac8a6774227"
      },
      "outputs": [
        {
          "output_type": "stream",
          "name": "stdout",
          "text": [
            "Generator LCG:\n",
            "Wartość oczekiwana: 0.49833706266991795\n",
            "Odchylenie standardowe: 0.28938253486683574\n",
            "\n",
            "Uogólniony generator LCG:\n",
            "Wartość oczekiwana: 0.5027571410905104\n",
            "Odchylenie standardowe: 0.289774071688766\n"
          ]
        }
      ],
      "source": [
        "import numpy as np\n",
        "\n",
        "def lcg(a, c, m, seed, n):\n",
        "    \"\"\"\n",
        "    Klasyczny generator liniowy (LCG):\n",
        "      X(n+1) = (a * X(n) + c) mod m\n",
        "    Parametry:\n",
        "      a    - mnożnik,\n",
        "      c    - przyrost,\n",
        "      m    - moduł,\n",
        "      seed - wartość początkowa,\n",
        "      n    - liczba generowanych liczb.\n",
        "    Zwraca:\n",
        "      listę wartości X oraz ich wersję znormalizowaną (dzieloną przez m).\n",
        "    \"\"\"\n",
        "    X = [seed]\n",
        "    for i in range(1, n):\n",
        "        X.append((a * X[-1] + c) % m)\n",
        "    normalized = [x/m for x in X]\n",
        "    return X, normalized\n",
        "\n",
        "def generalized_lcg(a_coeffs, c, m, seeds, n):\n",
        "    \"\"\"\n",
        "    Uogólniony generator liniowy:\n",
        "      X(n+1) = (a1*X(n) + a2*X(n-1) + ... + ak*X(n-k+1) + c) mod m\n",
        "    Parametry:\n",
        "      a_coeffs - lista współczynników [a1, a2, ..., ak],\n",
        "      c        - przyrost,\n",
        "      m        - moduł,\n",
        "      seeds    - lista wartości startowych [X(0), X(1), ..., X(k-1)],\n",
        "      n        - liczba generowanych liczb.\n",
        "    Zwraca:\n",
        "      listę wartości X oraz ich wersję znormalizowaną.\n",
        "    \"\"\"\n",
        "    k = len(a_coeffs)\n",
        "    if len(seeds) < k:\n",
        "        raise ValueError(\"Liczba wartości początkowych musi być co najmniej równa liczbie współczynników.\")\n",
        "\n",
        "    X = seeds.copy()\n",
        "    for i in range(len(seeds), n):\n",
        "        next_val = c\n",
        "        # Uwzględniana jest ostatnia wartość k\n",
        "        for j in range(k):\n",
        "            next_val += a_coeffs[j] * X[i - 1 - j]\n",
        "        next_val = next_val % m\n",
        "        X.append(next_val)\n",
        "    normalized = [x/m for x in X]\n",
        "    return X, normalized\n",
        "\n",
        "def compute_statistics(random_numbers):\n",
        "    \"\"\"\n",
        "    Oblicza wartość oczekiwaną (średnią) oraz odchylenie standardowe\n",
        "    dla listy liczb.\n",
        "    \"\"\"\n",
        "    mean = np.mean(random_numbers)\n",
        "    std = np.std(random_numbers)\n",
        "    return mean, std\n",
        "\n",
        "if __name__ == \"__main__\":\n",
        "    # Przykład użycia dla prostego generatora LCG:\n",
        "    a = 1103515245\n",
        "    c = 12345\n",
        "    m = 2**31\n",
        "    seed = 42\n",
        "    n = 10000  # liczba generowanych liczb\n",
        "\n",
        "    X, normalized = lcg(a, c, m, seed, n)\n",
        "    mean, std = compute_statistics(normalized)\n",
        "\n",
        "    print(\"Generator LCG:\")\n",
        "    print(\"Wartość oczekiwana:\", mean)\n",
        "    print(\"Odchylenie standardowe:\", std)\n",
        "\n",
        "    # Implementacja dla uogólnionego generatora LCG:\n",
        "    # Generator Fibonacciego: X(n+1) = (X(n) + X(n-1) + c) mod m, z c = 0\n",
        "    a_coeffs = [1, 1]\n",
        "    c_gen = 0\n",
        "    seeds = [1, 1]\n",
        "    n_gen = 10000\n",
        "\n",
        "    X_gen, normalized_gen = generalized_lcg(a_coeffs, c_gen, m, seeds, n_gen)\n",
        "    mean_gen, std_gen = compute_statistics(normalized_gen)\n",
        "\n",
        "    print(\"\\nUogólniony generator LCG:\")\n",
        "    print(\"Wartość oczekiwana:\", mean_gen)\n",
        "    print(\"Odchylenie standardowe:\", std_gen)\n"
      ]
    },
    {
      "cell_type": "markdown",
      "source": [
        "**Objaśnienie:**\n",
        "\n",
        "**Funkcja lcg:** Implementuje klasyczny generator liniowy, generując kolejne liczby wg wzoru:\n",
        "X(n+1) = (a * X(n) + c) mod m.\n",
        "Wyniki normalizowane są do przedziału [0,1] przez podzielenie przez m.\n",
        "\n",
        "**Funkcja generalized_lcg:** Implementuje generator z wieloma współczynnikami w tym przppadku wzór Fibonaccieg przyjmując listę współczynników oraz wartości początkowe.\n",
        "\n",
        "**Funkcja compute_statistics:** Oblicza średnią oraz odchylenie standardowe wygenerowanych (znormalizowanych) liczb."
      ],
      "metadata": {
        "id": "827rVOKLQZPk"
      }
    }
  ]
}